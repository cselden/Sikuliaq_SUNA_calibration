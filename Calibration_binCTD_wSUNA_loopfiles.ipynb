{
 "cells": [
  {
   "cell_type": "code",
   "execution_count": 2,
   "metadata": {},
   "outputs": [],
   "source": [
    "import os\n",
    "import numpy as np\n",
    "import pandas as pd"
   ]
  },
  {
   "cell_type": "code",
   "execution_count": 3,
   "metadata": {},
   "outputs": [],
   "source": [
    "#Import CTD bottle nitrate data for calibration of SUNA\n",
    "\n",
    "infile = './nitratewatersamples.txt'\n",
    "NO3_bottle = pd.read_csv(infile, sep='\\t', names = [\"StationNr\", \"Depth\", \"Nitrate\"])"
   ]
  },
  {
   "cell_type": "code",
   "execution_count": 15,
   "metadata": {
    "scrolled": false
   },
   "outputs": [],
   "source": [
    "#Loop through SUNA files\n",
    "for f_name in os.listdir('./SUNA_profiles'):\n",
    "    if f_name.endswith('.txt'):\n",
    "        f_name_elements = f_name.split('sta')\n",
    "        f_name_getnr = f_name_elements[1].split('.txt')\n",
    "        infile = './SUNA_profiles/%s' % (f_name)\n",
    "        SUNA_profile = pd.read_csv(infile, sep=' ')\n",
    "        #From bin ctd code from Corday\n",
    "        inc = 1 # define depth increment to bin by (m)\n",
    "        depthlist = np.arange(0,np.round(np.max(SUNA_profile.Depth), decimals = 0) + inc, inc)\n",
    "        df = pd.DataFrame(columns=['Station','Depth','NitrateBinned'])\n",
    "        for j in depthlist:\n",
    "            #Modify following to read in all profiles\n",
    "            #loc = df[(df.Cast == i) & (np.round(df.Depth_m, decimals = 0) == j)]\n",
    "            loc = SUNA_profile[(np.round(SUNA_profile.Depth, decimals = 0) == j)]\n",
    "            Nitratebinned = np.mean((loc[\"Nitrate(umol/L)\"]))\n",
    "            #Adjust \"5\" when looping through files\n",
    "           # OutputString = \"5,%i,%f\\n\" % (j,Nitratebinned)\n",
    "            df = df.append({'Station': int(f_name_getnr[0]),'Depth':j,'NitrateBinned':Nitratebinned}, ignore_index=True)"
   ]
  },
  {
   "cell_type": "code",
   "execution_count": 16,
   "metadata": {},
   "outputs": [
    {
     "data": {
      "text/html": [
       "<div>\n",
       "<style scoped>\n",
       "    .dataframe tbody tr th:only-of-type {\n",
       "        vertical-align: middle;\n",
       "    }\n",
       "\n",
       "    .dataframe tbody tr th {\n",
       "        vertical-align: top;\n",
       "    }\n",
       "\n",
       "    .dataframe thead th {\n",
       "        text-align: right;\n",
       "    }\n",
       "</style>\n",
       "<table border=\"1\" class=\"dataframe\">\n",
       "  <thead>\n",
       "    <tr style=\"text-align: right;\">\n",
       "      <th></th>\n",
       "      <th>Station</th>\n",
       "      <th>Depth</th>\n",
       "      <th>NitrateBinned</th>\n",
       "    </tr>\n",
       "  </thead>\n",
       "  <tbody>\n",
       "    <tr>\n",
       "      <th>0</th>\n",
       "      <td>5.0</td>\n",
       "      <td>0.0</td>\n",
       "      <td>NaN</td>\n",
       "    </tr>\n",
       "    <tr>\n",
       "      <th>1</th>\n",
       "      <td>5.0</td>\n",
       "      <td>1.0</td>\n",
       "      <td>NaN</td>\n",
       "    </tr>\n",
       "    <tr>\n",
       "      <th>2</th>\n",
       "      <td>5.0</td>\n",
       "      <td>2.0</td>\n",
       "      <td>NaN</td>\n",
       "    </tr>\n",
       "    <tr>\n",
       "      <th>3</th>\n",
       "      <td>5.0</td>\n",
       "      <td>3.0</td>\n",
       "      <td>2.681667</td>\n",
       "    </tr>\n",
       "    <tr>\n",
       "      <th>4</th>\n",
       "      <td>5.0</td>\n",
       "      <td>4.0</td>\n",
       "      <td>2.671429</td>\n",
       "    </tr>\n",
       "    <tr>\n",
       "      <th>...</th>\n",
       "      <td>...</td>\n",
       "      <td>...</td>\n",
       "      <td>...</td>\n",
       "    </tr>\n",
       "    <tr>\n",
       "      <th>363</th>\n",
       "      <td>5.0</td>\n",
       "      <td>363.0</td>\n",
       "      <td>16.520000</td>\n",
       "    </tr>\n",
       "    <tr>\n",
       "      <th>364</th>\n",
       "      <td>5.0</td>\n",
       "      <td>364.0</td>\n",
       "      <td>16.598750</td>\n",
       "    </tr>\n",
       "    <tr>\n",
       "      <th>365</th>\n",
       "      <td>5.0</td>\n",
       "      <td>365.0</td>\n",
       "      <td>16.431795</td>\n",
       "    </tr>\n",
       "    <tr>\n",
       "      <th>366</th>\n",
       "      <td>5.0</td>\n",
       "      <td>366.0</td>\n",
       "      <td>16.392500</td>\n",
       "    </tr>\n",
       "    <tr>\n",
       "      <th>367</th>\n",
       "      <td>5.0</td>\n",
       "      <td>367.0</td>\n",
       "      <td>16.473889</td>\n",
       "    </tr>\n",
       "  </tbody>\n",
       "</table>\n",
       "<p>368 rows × 3 columns</p>\n",
       "</div>"
      ],
      "text/plain": [
       "     Station  Depth  NitrateBinned\n",
       "0        5.0    0.0            NaN\n",
       "1        5.0    1.0            NaN\n",
       "2        5.0    2.0            NaN\n",
       "3        5.0    3.0       2.681667\n",
       "4        5.0    4.0       2.671429\n",
       "..       ...    ...            ...\n",
       "363      5.0  363.0      16.520000\n",
       "364      5.0  364.0      16.598750\n",
       "365      5.0  365.0      16.431795\n",
       "366      5.0  366.0      16.392500\n",
       "367      5.0  367.0      16.473889\n",
       "\n",
       "[368 rows x 3 columns]"
      ]
     },
     "execution_count": 16,
     "metadata": {},
     "output_type": "execute_result"
    }
   ],
   "source": [
    "df"
   ]
  },
  {
   "cell_type": "code",
   "execution_count": 17,
   "metadata": {},
   "outputs": [
    {
     "name": "stdout",
     "output_type": "stream",
     "text": [
      "1.0   0.2471   nan\n",
      "30.0   0.5347   2.78\n",
      "150.0   14.1829   nan\n",
      "200.0   13.1632   15.48\n"
     ]
    }
   ],
   "source": [
    "#Find corresponding depths between files\n",
    "for index, row in NO3_bottle.iterrows():\n",
    "    for indexSUNA, rowSUNA in df.iterrows():\n",
    "        if int(row['StationNr']) == int(rowSUNA['Station']) and int(row['Depth']) == int(rowSUNA['Depth']):\n",
    "            print(row['Depth'],' ', row['Nitrate'],' ', rowSUNA['NitrateBinned'])"
   ]
  },
  {
   "cell_type": "code",
   "execution_count": null,
   "metadata": {},
   "outputs": [],
   "source": [
    "#Above depth of 150 is returning a nan for the binned nitrate\n",
    "\n",
    "#Raw unbinned SUNA nitrate data around depth of 150:\n",
    "\n",
    "#147.515478 15.020000 \n",
    "#149.549457 NaN \n",
    "#151.236311 15.880000 "
   ]
  }
 ],
 "metadata": {
  "kernelspec": {
   "display_name": "Python 3",
   "language": "python",
   "name": "python3"
  },
  "language_info": {
   "codemirror_mode": {
    "name": "ipython",
    "version": 3
   },
   "file_extension": ".py",
   "mimetype": "text/x-python",
   "name": "python",
   "nbconvert_exporter": "python",
   "pygments_lexer": "ipython3",
   "version": "3.7.6"
  }
 },
 "nbformat": 4,
 "nbformat_minor": 4
}
